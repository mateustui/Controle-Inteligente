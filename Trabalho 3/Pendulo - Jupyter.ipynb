{
 "cells": [
  {
   "cell_type": "code",
   "execution_count": 1,
   "metadata": {},
   "outputs": [
    {
     "name": "stdout",
     "output_type": "stream",
     "text": [
      "pygame 2.1.2 (SDL 2.0.18, Python 3.9.7)\n",
      "Hello from the pygame community. https://www.pygame.org/contribute.html\n"
     ]
    }
   ],
   "source": [
    "import pygame\n",
    "import numpy as np\n",
    "from scipy import linalg\n",
    "from sklearn.neural_network import MLPRegressor\n",
    "import pandas as pd\n",
    "import pickle"
   ]
  },
  {
   "cell_type": "code",
   "execution_count": 14,
   "metadata": {},
   "outputs": [],
   "source": [
    "import matplotlib.pyplot as plt"
   ]
  },
  {
   "cell_type": "code",
   "execution_count": null,
   "metadata": {},
   "outputs": [],
   "source": []
  },
  {
   "cell_type": "code",
   "execution_count": 14,
   "metadata": {},
   "outputs": [],
   "source": [
    "class InvertedPendulum():\n",
    "    # Initialize environment.\n",
    "    def __init__(self, xRef = 0.0, randomParameters = False, randomSensor = False, randomActuator = False):\n",
    "        # System parameters.\n",
    "        self.tau = 0.01\n",
    "        if not randomParameters:\n",
    "            self.g = 9.8\n",
    "            self.M = 1.0\n",
    "            self.m = 0.1\n",
    "            self.l = 0.5\n",
    "        else:\n",
    "            self.g = 9.8 + 0.098*np.random.randn()\n",
    "            self.M = 1.0 + 0.1 *np.random.randn()\n",
    "            self.m = 0.1 + 0.01*np.random.randn()\n",
    "            self.l = 0.5 + 0.05*np.random.randn()\n",
    "            \n",
    "        self.xRef = xRef\n",
    "\n",
    "        # Drawing parameters.\n",
    "        self.cartWidth = 80\n",
    "        self.cartHeight = 40\n",
    "        self.pendulumLength = 200\n",
    "        self.baseLine = 350\n",
    "        self.screenWidth = 800\n",
    "        self.screenHeight = 400\n",
    "        \n",
    "        # Variable to see if simulation ended.\n",
    "        self.finish = False\n",
    "        \n",
    "        # Variable to see if there is randomness in the sensors and actuators.\n",
    "        self.randomSensor   = randomSensor\n",
    "        self.randomActuator = randomActuator\n",
    "        \n",
    "        # Create a random observation.\n",
    "        self.reset()\n",
    "\n",
    "        # Create screen.\n",
    "        self.screen = pygame.display.set_mode((self.screenWidth, self.screenHeight))\n",
    "        pygame.display.set_caption('Inverted Pendulum')\n",
    "        self.screen.fill('White')\n",
    "        \n",
    "        # Create a clock object.\n",
    "        self.clock = pygame.time.Clock()\n",
    "        pygame.display.update()\n",
    "\n",
    "    # Close environment window.\n",
    "    def close(self):\n",
    "        pygame.quit()\n",
    "        \n",
    "    # Reset system with a new random initial position.\n",
    "    def reset(self):\n",
    "        self.observation = np.random.uniform(low = -0.05, high = 0.05, size = (4,))\n",
    "        if self.randomSensor:\n",
    "            return self.noise_sensors(self.observation.copy())\n",
    "        else:\n",
    "            return self.observation.copy()\n",
    "    \n",
    "    # Insert noise on the sensors.\n",
    "    def noise_sensors(self, observation, noiseVar = 0.01):\n",
    "        observation[0] = observation[0] + noiseVar*np.random.randn()\n",
    "        observation[1] = observation[1] + noiseVar*np.random.randn()\n",
    "        observation[2] = observation[2] + noiseVar*np.random.randn()\n",
    "        observation[3] = observation[3] + noiseVar*np.random.randn()\n",
    "        return observation\n",
    "    \n",
    "    # Insert noise on actuator.\n",
    "    def noise_actuator(self, action, noiseVar = 0.01):\n",
    "        action += noiseVar * np.random.randn()\n",
    "        return action\n",
    "    \n",
    "    # Display object.\n",
    "    def render(self):\n",
    "        # Check for all possible types of player input.\n",
    "        for event in pygame.event.get():\n",
    "            # Command for closing the window.\n",
    "            if (event.type == pygame.QUIT):\n",
    "                pygame.quit()\n",
    "                self.finish = True\n",
    "                return None\n",
    "            \n",
    "            if (event.type == pygame.KEYDOWN):\n",
    "                if (event.key == pygame.K_LEFT):\n",
    "                    self.xRef -= 0.01\n",
    "                    \n",
    "                elif (event.key == pygame.K_RIGHT):\n",
    "                    self.xRef += 0.01\n",
    "                    \n",
    "                elif (event.key == pygame.K_SPACE):\n",
    "                    self.step(200*np.random.randn())\n",
    "        \n",
    "        # Apply surface over display.\n",
    "        self.screen.fill('White')\n",
    "        pygame.draw.line(self.screen, 'Black', (0, self.baseLine), (self.screenWidth, self.baseLine))\n",
    "        \n",
    "        # Get position for cart.\n",
    "        xCenter = self.screenHeight + self.screenHeight * self.observation[0]\n",
    "        xLeft   = xCenter - self.cartWidth//2\n",
    "        # xRight  = xCenter + self.cartWidth//2\n",
    "        \n",
    "        # Get position for pendulum.\n",
    "        pendX = xCenter +  self.pendulumLength * np.sin(self.observation[2])\n",
    "        pendY = self.baseLine - self.pendulumLength * np.cos(self.observation[2])\n",
    "        \n",
    "        # Display objects.\n",
    "        pygame.draw.line(self.screen,   'Green', (int(self.screenHeight + self.xRef * self.screenHeight), 0), (int(self.screenHeight + self.xRef * self.screenHeight), self.baseLine), width = 1)\n",
    "        pygame.draw.rect(self.screen,   'Black', (xLeft, self.baseLine-self.cartHeight//2, self.cartWidth, self.cartHeight),  width = 0)\n",
    "        pygame.draw.line(self.screen,   (100, 10, 10),   (xCenter, self.baseLine), (pendX, pendY), width = 6)\n",
    "        pygame.draw.circle(self.screen, 'Blue',  (xCenter, self.baseLine), 10)\n",
    "    \n",
    "        # Draw all our elements and update everything.\n",
    "        pygame.display.update()\n",
    "        \n",
    "        # Limit framerate.\n",
    "        self.clock.tick(60)\n",
    "\n",
    "    # Perform a step.\n",
    "    def step(self, force):\n",
    "        if self.randomActuator:\n",
    "            force = self.noise_actuator(force)\n",
    "        x1 = self.observation[0]\n",
    "        x2 = self.observation[1]\n",
    "        x3 = self.observation[2]\n",
    "        x4 = self.observation[3]\n",
    "        x4dot = (self.g * np.sin(x3) - np.cos(x3) * (force + self.m * self.l * x4**2 * np.sin(x3))/(self.M + self.m)) / (self.l * (4.0/3.0 - self.m * np.cos(x3)**2 / (self.M + self.m)))\n",
    "        x2dot = (force + self.m * self.l * x4**2 * np.sin(x3))/(self.M + self.m) - self.m * self.l * x4dot * np.cos(x3) / (self.M + self.m)\n",
    "        self.observation[0] = x1 + self.tau * x2\n",
    "        self.observation[1] = x2 + self.tau * x2dot\n",
    "        self.observation[2] = x3 + self.tau * x4\n",
    "        self.observation[3] = x4 + self.tau * x4dot\n",
    "        if self.randomSensor:\n",
    "            return self.noise_sensors(self.observation.copy())\n",
    "        else:\n",
    "            return self.observation.copy()"
   ]
  },
  {
   "cell_type": "code",
   "execution_count": 4,
   "metadata": {},
   "outputs": [
    {
     "data": {
      "text/html": [
       "<div>\n",
       "<style scoped>\n",
       "    .dataframe tbody tr th:only-of-type {\n",
       "        vertical-align: middle;\n",
       "    }\n",
       "\n",
       "    .dataframe tbody tr th {\n",
       "        vertical-align: top;\n",
       "    }\n",
       "\n",
       "    .dataframe thead th {\n",
       "        text-align: right;\n",
       "    }\n",
       "</style>\n",
       "<table border=\"1\" class=\"dataframe\">\n",
       "  <thead>\n",
       "    <tr style=\"text-align: right;\">\n",
       "      <th></th>\n",
       "      <th>0</th>\n",
       "      <th>1</th>\n",
       "      <th>2</th>\n",
       "      <th>3</th>\n",
       "      <th>4</th>\n",
       "    </tr>\n",
       "  </thead>\n",
       "  <tbody>\n",
       "    <tr>\n",
       "      <th>0</th>\n",
       "      <td>-0.514756</td>\n",
       "      <td>-5.057626</td>\n",
       "      <td>0.013547</td>\n",
       "      <td>7.678928</td>\n",
       "      <td>-522.084200</td>\n",
       "    </tr>\n",
       "    <tr>\n",
       "      <th>1</th>\n",
       "      <td>-0.565332</td>\n",
       "      <td>0.143587</td>\n",
       "      <td>0.090337</td>\n",
       "      <td>-0.120185</td>\n",
       "      <td>533.101514</td>\n",
       "    </tr>\n",
       "    <tr>\n",
       "      <th>2</th>\n",
       "      <td>-0.563896</td>\n",
       "      <td>0.880795</td>\n",
       "      <td>0.089135</td>\n",
       "      <td>-1.208226</td>\n",
       "      <td>75.674807</td>\n",
       "    </tr>\n",
       "    <tr>\n",
       "      <th>3</th>\n",
       "      <td>-0.555088</td>\n",
       "      <td>0.331017</td>\n",
       "      <td>0.077053</td>\n",
       "      <td>-0.373748</td>\n",
       "      <td>-56.326216</td>\n",
       "    </tr>\n",
       "    <tr>\n",
       "      <th>4</th>\n",
       "      <td>-0.551778</td>\n",
       "      <td>0.115740</td>\n",
       "      <td>0.073315</td>\n",
       "      <td>-0.040475</td>\n",
       "      <td>-22.019596</td>\n",
       "    </tr>\n",
       "  </tbody>\n",
       "</table>\n",
       "</div>"
      ],
      "text/plain": [
       "          0         1         2         3           4\n",
       "0 -0.514756 -5.057626  0.013547  7.678928 -522.084200\n",
       "1 -0.565332  0.143587  0.090337 -0.120185  533.101514\n",
       "2 -0.563896  0.880795  0.089135 -1.208226   75.674807\n",
       "3 -0.555088  0.331017  0.077053 -0.373748  -56.326216\n",
       "4 -0.551778  0.115740  0.073315 -0.040475  -22.019596"
      ]
     },
     "execution_count": 4,
     "metadata": {},
     "output_type": "execute_result"
    }
   ],
   "source": [
    "Dados = pd.read_csv(r'C:\\Users\\Mateus\\Desktop\\Trabalho 3\\PenduloInvertidoFuzzyArtigo.csv', on_bad_lines='skip', header=None)\n",
    "# Dados.values\n",
    "Dados.head(5)\n",
    "# print(Dados)"
   ]
  },
  {
   "cell_type": "code",
   "execution_count": 5,
   "metadata": {},
   "outputs": [
    {
     "data": {
      "text/plain": [
       "(13159, 5)"
      ]
     },
     "execution_count": 5,
     "metadata": {},
     "output_type": "execute_result"
    }
   ],
   "source": [
    "Dados.shape"
   ]
  },
  {
   "cell_type": "code",
   "execution_count": 6,
   "metadata": {},
   "outputs": [],
   "source": [
    "Entradas = Dados.iloc[:,:-1].values\n",
    "Saidas = Dados.iloc[:,4:].values\n",
    "# Entradas.head()\n",
    "# Saidas.head()"
   ]
  },
  {
   "cell_type": "code",
   "execution_count": 19,
   "metadata": {},
   "outputs": [
    {
     "data": {
      "text/plain": [
       "array([[-5.22084200e+02],\n",
       "       [ 5.33101514e+02],\n",
       "       [ 7.56748074e+01],\n",
       "       ...,\n",
       "       [-1.92472764e-03],\n",
       "       [-1.94693534e-03],\n",
       "       [-1.96813880e-03]])"
      ]
     },
     "execution_count": 19,
     "metadata": {},
     "output_type": "execute_result"
    }
   ],
   "source": [
    "Saidas"
   ]
  },
  {
   "cell_type": "code",
   "execution_count": null,
   "metadata": {},
   "outputs": [],
   "source": [
    "Modelo.compile(optimizer='adam', loss='binary_crossentropy', metrics=['accuracy'])"
   ]
  },
  {
   "cell_type": "code",
   "execution_count": 9,
   "metadata": {},
   "outputs": [],
   "source": [
    "Modelo = MLPRegressor(hidden_layer_sizes=[64,32,8,4,2,1], activation='relu', solver='adam', max_iter=1000000)"
   ]
  },
  {
   "cell_type": "code",
   "execution_count": 10,
   "metadata": {},
   "outputs": [
    {
     "name": "stderr",
     "output_type": "stream",
     "text": [
      "c:\\Users\\Mateus\\anaconda3\\lib\\site-packages\\sklearn\\utils\\validation.py:63: DataConversionWarning: A column-vector y was passed when a 1d array was expected. Please change the shape of y to (n_samples, ), for example using ravel().\n",
      "  return f(*args, **kwargs)\n"
     ]
    },
    {
     "data": {
      "text/plain": [
       "MLPRegressor(hidden_layer_sizes=[64, 32, 8, 4, 2, 1], max_iter=1000000)"
      ]
     },
     "execution_count": 10,
     "metadata": {},
     "output_type": "execute_result"
    }
   ],
   "source": [
    "Modelo.fit(Entradas, Saidas)"
   ]
  },
  {
   "cell_type": "code",
   "execution_count": 11,
   "metadata": {},
   "outputs": [],
   "source": [
    "Ypred=Modelo.predict(Entradas)"
   ]
  },
  {
   "cell_type": "code",
   "execution_count": 18,
   "metadata": {},
   "outputs": [
    {
     "data": {
      "text/plain": [
       "array([ -3.88720444, 127.38668923, 166.13615383, ...,  -3.88720444,\n",
       "        -3.88720444,  -3.88720444])"
      ]
     },
     "execution_count": 18,
     "metadata": {},
     "output_type": "execute_result"
    }
   ],
   "source": [
    "Ypred"
   ]
  },
  {
   "cell_type": "code",
   "execution_count": 16,
   "metadata": {},
   "outputs": [
    {
     "data": {
      "text/plain": [
       "<matplotlib.collections.PathCollection at 0x23cc2d7f190>"
      ]
     },
     "execution_count": 16,
     "metadata": {},
     "output_type": "execute_result"
    },
    {
     "data": {
      "image/png": "[encoded data removed]",
      "text/plain": [
       "<Figure size 432x288 with 1 Axes>"
      ]
     },
     "metadata": {
      "needs_background": "light"
     },
     "output_type": "display_data"
    }
   ],
   "source": [
    "plt.scatter(Ypred,Saidas)"
   ]
  },
  {
   "cell_type": "code",
   "execution_count": 17,
   "metadata": {},
   "outputs": [
    {
     "data": {
      "text/plain": [
       "array([[ 518.19699512,  649.47088879,  688.22035339, ...,  518.19699512,\n",
       "         518.19699512,  518.19699512],\n",
       "       [-536.98871848, -405.71482481, -366.96536021, ..., -536.98871848,\n",
       "        -536.98871848, -536.98871848],\n",
       "       [ -79.56201186,   51.7118818 ,   90.46134641, ...,  -79.56201186,\n",
       "         -79.56201186,  -79.56201186],\n",
       "       ...,\n",
       "       [  -3.88527971,  127.38861395,  166.13807856, ...,   -3.88527971,\n",
       "          -3.88527971,   -3.88527971],\n",
       "       [  -3.8852575 ,  127.38863616,  166.13810077, ...,   -3.8852575 ,\n",
       "          -3.8852575 ,   -3.8852575 ],\n",
       "       [  -3.8852363 ,  127.38865737,  166.13812197, ...,   -3.8852363 ,\n",
       "          -3.8852363 ,   -3.8852363 ]])"
      ]
     },
     "execution_count": 17,
     "metadata": {},
     "output_type": "execute_result"
    }
   ],
   "source": [
    "Ypred-Saidas"
   ]
  },
  {
   "cell_type": "code",
   "execution_count": 12,
   "metadata": {},
   "outputs": [],
   "source": [
    "# Modelo.save('G:\\Outros computadores\\Meu modelo Computador\\IFES\\9 Período\\Controle Inteligente\\Trabalho 3\\ RedeTreinada.h5')\n",
    "\n",
    "filename = '64Neuronios.sav'\n",
    "pickle.dump(Modelo, open(filename, 'wb'))"
   ]
  },
  {
   "cell_type": "code",
   "execution_count": 15,
   "metadata": {},
   "outputs": [
    {
     "ename": "TypeError",
     "evalue": "RegressorMixin.score() takes from 3 to 4 positional arguments but 5 were given",
     "output_type": "error",
     "traceback": [
      "\u001b[1;31m---------------------------------------------------------------------------\u001b[0m",
      "\u001b[1;31mTypeError\u001b[0m                                 Traceback (most recent call last)",
      "\u001b[1;32mg:\\Outros computadores\\Meu modelo Computador\\IFES\\9 Período\\Controle Inteligente\\Trabalho 3\\Pendulo - Jupyter.ipynb Cell 8'\u001b[0m in \u001b[0;36m<cell line: 34>\u001b[1;34m()\u001b[0m\n\u001b[0;32m     <a href='vscode-notebook-cell:/g%3A/Outros%20computadores/Meu%20modelo%20Computador/IFES/9%20Per%C3%ADodo/Controle%20Inteligente/Trabalho%203/Pendulo%20-%20Jupyter.ipynb#ch0000007?line=37'>38</a>\u001b[0m     \u001b[39mbreak\u001b[39;00m\n\u001b[0;32m     <a href='vscode-notebook-cell:/g%3A/Outros%20computadores/Meu%20modelo%20Computador/IFES/9%20Per%C3%ADodo/Controle%20Inteligente/Trabalho%203/Pendulo%20-%20Jupyter.ipynb#ch0000007?line=39'>40</a>\u001b[0m \u001b[39m# Calcula a ação de controle.\u001b[39;00m\n\u001b[1;32m---> <a href='vscode-notebook-cell:/g%3A/Outros%20computadores/Meu%20modelo%20Computador/IFES/9%20Per%C3%ADodo/Controle%20Inteligente/Trabalho%203/Pendulo%20-%20Jupyter.ipynb#ch0000007?line=40'>41</a>\u001b[0m acao \u001b[39m=\u001b[39m funcao_controle_1(sensores)  \u001b[39m# É ESSA A FUNÇÃO QUE VOCÊS DEVEM PROJETAR.\u001b[39;00m\n\u001b[0;32m     <a href='vscode-notebook-cell:/g%3A/Outros%20computadores/Meu%20modelo%20Computador/IFES/9%20Per%C3%ADodo/Controle%20Inteligente/Trabalho%203/Pendulo%20-%20Jupyter.ipynb#ch0000007?line=42'>43</a>\u001b[0m \u001b[39m# Aplica a ação de controle.\u001b[39;00m\n\u001b[0;32m     <a href='vscode-notebook-cell:/g%3A/Outros%20computadores/Meu%20modelo%20Computador/IFES/9%20Per%C3%ADodo/Controle%20Inteligente/Trabalho%203/Pendulo%20-%20Jupyter.ipynb#ch0000007?line=43'>44</a>\u001b[0m sensores \u001b[39m=\u001b[39m env\u001b[39m.\u001b[39mstep(acao)\n",
      "\u001b[1;32mg:\\Outros computadores\\Meu modelo Computador\\IFES\\9 Período\\Controle Inteligente\\Trabalho 3\\Pendulo - Jupyter.ipynb Cell 8'\u001b[0m in \u001b[0;36mfuncao_controle_1\u001b[1;34m(sensores)\u001b[0m\n\u001b[0;32m     <a href='vscode-notebook-cell:/g%3A/Outros%20computadores/Meu%20modelo%20Computador/IFES/9%20Per%C3%ADodo/Controle%20Inteligente/Trabalho%203/Pendulo%20-%20Jupyter.ipynb#ch0000007?line=16'>17</a>\u001b[0m \u001b[39mdef\u001b[39;00m \u001b[39mfuncao_controle_1\u001b[39m(sensores):\n\u001b[0;32m     <a href='vscode-notebook-cell:/g%3A/Outros%20computadores/Meu%20modelo%20Computador/IFES/9%20Per%C3%ADodo/Controle%20Inteligente/Trabalho%203/Pendulo%20-%20Jupyter.ipynb#ch0000007?line=17'>18</a>\u001b[0m     \u001b[39m# Model = MLPClassifier(hidden_layer_sizes=[4], activation='relu', learning_rate=0.01, max_iter=80000)\u001b[39;00m\n\u001b[0;32m     <a href='vscode-notebook-cell:/g%3A/Outros%20computadores/Meu%20modelo%20Computador/IFES/9%20Per%C3%ADodo/Controle%20Inteligente/Trabalho%203/Pendulo%20-%20Jupyter.ipynb#ch0000007?line=18'>19</a>\u001b[0m     \u001b[39m# Model.fit(sensores)\u001b[39;00m\n\u001b[0;32m     <a href='vscode-notebook-cell:/g%3A/Outros%20computadores/Meu%20modelo%20Computador/IFES/9%20Per%C3%ADodo/Controle%20Inteligente/Trabalho%203/Pendulo%20-%20Jupyter.ipynb#ch0000007?line=19'>20</a>\u001b[0m     \u001b[39m# acao = Model.predict(sensores)\u001b[39;00m\n\u001b[0;32m     <a href='vscode-notebook-cell:/g%3A/Outros%20computadores/Meu%20modelo%20Computador/IFES/9%20Per%C3%ADodo/Controle%20Inteligente/Trabalho%203/Pendulo%20-%20Jupyter.ipynb#ch0000007?line=21'>22</a>\u001b[0m     loaded_model \u001b[39m=\u001b[39m pickle\u001b[39m.\u001b[39mload(\u001b[39mopen\u001b[39m(filename, \u001b[39m'\u001b[39m\u001b[39mrb\u001b[39m\u001b[39m'\u001b[39m))\n\u001b[1;32m---> <a href='vscode-notebook-cell:/g%3A/Outros%20computadores/Meu%20modelo%20Computador/IFES/9%20Per%C3%ADodo/Controle%20Inteligente/Trabalho%203/Pendulo%20-%20Jupyter.ipynb#ch0000007?line=22'>23</a>\u001b[0m     result \u001b[39m=\u001b[39m loaded_model\u001b[39m.\u001b[39;49mscore(sensores[\u001b[39m0\u001b[39;49m], sensores[\u001b[39m1\u001b[39;49m], sensores[\u001b[39m2\u001b[39;49m], sensores[\u001b[39m3\u001b[39;49m])\n\u001b[0;32m     <a href='vscode-notebook-cell:/g%3A/Outros%20computadores/Meu%20modelo%20Computador/IFES/9%20Per%C3%ADodo/Controle%20Inteligente/Trabalho%203/Pendulo%20-%20Jupyter.ipynb#ch0000007?line=23'>24</a>\u001b[0m     acao \u001b[39m=\u001b[39m result\n\u001b[0;32m     <a href='vscode-notebook-cell:/g%3A/Outros%20computadores/Meu%20modelo%20Computador/IFES/9%20Per%C3%ADodo/Controle%20Inteligente/Trabalho%203/Pendulo%20-%20Jupyter.ipynb#ch0000007?line=24'>25</a>\u001b[0m     \u001b[39mreturn\u001b[39;00m acao\n",
      "\u001b[1;31mTypeError\u001b[0m: RegressorMixin.score() takes from 3 to 4 positional arguments but 5 were given"
     ]
    },
    {
     "ename": "",
     "evalue": "",
     "output_type": "error",
     "traceback": [
      "\u001b[1;31mThe Kernel crashed while executing code in the the current cell or a previous cell. Please review the code in the cell(s) to identify a possible cause of the failure. Click <a href='https://aka.ms/vscodeJupyterKernelCrash'>here</a> for more info. View Jupyter <a href='command:jupyter.viewOutput'>log</a> for further details."
     ]
    }
   ],
   "source": [
    "g = 9.8\n",
    "M = 1.0\n",
    "m = 0.1\n",
    "l = 0.5\n",
    "L = 2*l\n",
    "I = m*L**2 / 12\n",
    "\n",
    "# SENSORES.\n",
    "# sensores[0]: posição.\n",
    "# sensores[1]: velocidade.\n",
    "# sensores[2]: ângulo.\n",
    "# sensores[3]: velocidade angular.\n",
    "# SETPOINT em env.xRef.\n",
    "\n",
    "\n",
    "# Função de controle: Ação nula.\n",
    "def funcao_controle_1(sensores):\n",
    "    # Model = MLPClassifier(hidden_layer_sizes=[4], activation='relu', learning_rate=0.01, max_iter=80000)\n",
    "    # Model.fit(sensores)\n",
    "    # acao = Model.predict(sensores)\n",
    "\n",
    "    loaded_model = pickle.load(open(filename, 'rb'))\n",
    "    result = loaded_model.score(sensores[0], sensores[1], sensores[2], sensores[3])\n",
    "    acao = result\n",
    "    return acao\n",
    "\n",
    "\n",
    "# Cria o ambiente de simulação.\n",
    "env = InvertedPendulum(0.50)\n",
    "\n",
    "# Reseta o ambiente de simulação.\n",
    "sensores = env.reset()\n",
    "\n",
    "while True:\n",
    "    # Renderiza o simulador.\n",
    "    env.render()\n",
    "    if env.finish:\n",
    "        break\n",
    "    \n",
    "    # Calcula a ação de controle.\n",
    "    acao = funcao_controle_1(sensores)  # É ESSA A FUNÇÃO QUE VOCÊS DEVEM PROJETAR.\n",
    "    \n",
    "    # Aplica a ação de controle.\n",
    "    sensores = env.step(acao)\n",
    "    \n",
    "env.close()"
   ]
  }
 ],
 "metadata": {
  "kernelspec": {
   "display_name": "Python 3.9.7 ('base')",
   "language": "python",
   "name": "python3"
  },
  "language_info": {
   "codemirror_mode": {
    "name": "ipython",
    "version": 3
   },
   "file_extension": ".py",
   "mimetype": "text/x-python",
   "name": "python",
   "nbconvert_exporter": "python",
   "pygments_lexer": "ipython3",
   "version": "3.9.7"
  },
  "orig_nbformat": 4,
  "vscode": {
   "interpreter": {
    "hash": "4333fd1fe43e466f515c3a6ba90777eaed51e6920feedfbbb88898e3a37377d4"
   }
  }
 },
 "nbformat": 4,
 "nbformat_minor": 2
}
