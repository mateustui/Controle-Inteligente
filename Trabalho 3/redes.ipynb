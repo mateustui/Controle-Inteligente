{
 "cells": [
  {
   "cell_type": "code",
   "execution_count": 1,
   "metadata": {},
   "outputs": [],
   "source": [
    "import numpy as np\n",
    "import matplotlib.pyplot as plt \n",
    "from sklearn.datasets import make_blobs\n",
    "from sklearn.model_selection import train_test_split\n",
    "\n",
    "\n",
    "import tensorflow as tf\n",
    "from tensorflow.keras.models import Model\n",
    "from tensorflow.keras.layers import Input, Dense, Activation\n",
    "import pandas as pd\n",
    "import pickle\n",
    "from sklearn.neural_network import MLPRegressor\n",
    "import tensorflow as tf\n",
    "from tensorflow.keras.models import Sequential\n",
    "from tensorflow.keras.layers import Dense, Activation\n",
    "from tensorflow.keras.optimizers import Adam\n"
   ]
  },
  {
   "cell_type": "code",
   "execution_count": 2,
   "metadata": {},
   "outputs": [],
   "source": [
    "Dados = pd.read_csv(r'C:\\Users\\Mateus\\Meu Drive\\Compartilhado\\eng\\9_periodo\\Controle inteligente\\Trabalho 3\\PenduloInvertidoFuzzyArtigo.csv', on_bad_lines='skip', header=None)\n",
    "# Dados.values\n",
    "# Dados.head(5)\n",
    "# print(Dados)\n",
    "\n",
    "Entradas = Dados.iloc[:,:-1]\n",
    "Entradas.shape\n",
    "Saidas = Dados.iloc[:,4]"
   ]
  },
  {
   "cell_type": "code",
   "execution_count": 3,
   "metadata": {},
   "outputs": [
    {
     "data": {
      "text/html": [
       "<div>\n",
       "<style scoped>\n",
       "    .dataframe tbody tr th:only-of-type {\n",
       "        vertical-align: middle;\n",
       "    }\n",
       "\n",
       "    .dataframe tbody tr th {\n",
       "        vertical-align: top;\n",
       "    }\n",
       "\n",
       "    .dataframe thead th {\n",
       "        text-align: right;\n",
       "    }\n",
       "</style>\n",
       "<table border=\"1\" class=\"dataframe\">\n",
       "  <thead>\n",
       "    <tr style=\"text-align: right;\">\n",
       "      <th></th>\n",
       "      <th>0</th>\n",
       "      <th>1</th>\n",
       "      <th>2</th>\n",
       "      <th>3</th>\n",
       "      <th>4</th>\n",
       "    </tr>\n",
       "  </thead>\n",
       "  <tbody>\n",
       "    <tr>\n",
       "      <th>0</th>\n",
       "      <td>-0.514756</td>\n",
       "      <td>-5.057626</td>\n",
       "      <td>0.013547</td>\n",
       "      <td>7.678928</td>\n",
       "      <td>-522.084200</td>\n",
       "    </tr>\n",
       "    <tr>\n",
       "      <th>1</th>\n",
       "      <td>-0.565332</td>\n",
       "      <td>0.143587</td>\n",
       "      <td>0.090337</td>\n",
       "      <td>-0.120185</td>\n",
       "      <td>533.101514</td>\n",
       "    </tr>\n",
       "    <tr>\n",
       "      <th>2</th>\n",
       "      <td>-0.563896</td>\n",
       "      <td>0.880795</td>\n",
       "      <td>0.089135</td>\n",
       "      <td>-1.208226</td>\n",
       "      <td>75.674807</td>\n",
       "    </tr>\n",
       "    <tr>\n",
       "      <th>3</th>\n",
       "      <td>-0.555088</td>\n",
       "      <td>0.331017</td>\n",
       "      <td>0.077053</td>\n",
       "      <td>-0.373748</td>\n",
       "      <td>-56.326216</td>\n",
       "    </tr>\n",
       "    <tr>\n",
       "      <th>4</th>\n",
       "      <td>-0.551778</td>\n",
       "      <td>0.115740</td>\n",
       "      <td>0.073315</td>\n",
       "      <td>-0.040475</td>\n",
       "      <td>-22.019596</td>\n",
       "    </tr>\n",
       "    <tr>\n",
       "      <th>...</th>\n",
       "      <td>...</td>\n",
       "      <td>...</td>\n",
       "      <td>...</td>\n",
       "      <td>...</td>\n",
       "      <td>...</td>\n",
       "    </tr>\n",
       "    <tr>\n",
       "      <th>13154</th>\n",
       "      <td>-0.004212</td>\n",
       "      <td>0.003572</td>\n",
       "      <td>-0.000093</td>\n",
       "      <td>-0.000400</td>\n",
       "      <td>-0.001877</td>\n",
       "    </tr>\n",
       "    <tr>\n",
       "      <th>13155</th>\n",
       "      <td>-0.004177</td>\n",
       "      <td>0.003554</td>\n",
       "      <td>-0.000097</td>\n",
       "      <td>-0.000387</td>\n",
       "      <td>-0.001901</td>\n",
       "    </tr>\n",
       "    <tr>\n",
       "      <th>13156</th>\n",
       "      <td>-0.004141</td>\n",
       "      <td>0.003536</td>\n",
       "      <td>-0.000101</td>\n",
       "      <td>-0.000374</td>\n",
       "      <td>-0.001925</td>\n",
       "    </tr>\n",
       "    <tr>\n",
       "      <th>13157</th>\n",
       "      <td>-0.004106</td>\n",
       "      <td>0.003518</td>\n",
       "      <td>-0.000105</td>\n",
       "      <td>-0.000361</td>\n",
       "      <td>-0.001947</td>\n",
       "    </tr>\n",
       "    <tr>\n",
       "      <th>13158</th>\n",
       "      <td>-0.004071</td>\n",
       "      <td>0.003499</td>\n",
       "      <td>-0.000109</td>\n",
       "      <td>-0.000349</td>\n",
       "      <td>-0.001968</td>\n",
       "    </tr>\n",
       "  </tbody>\n",
       "</table>\n",
       "<p>13159 rows × 5 columns</p>\n",
       "</div>"
      ],
      "text/plain": [
       "              0         1         2         3           4\n",
       "0     -0.514756 -5.057626  0.013547  7.678928 -522.084200\n",
       "1     -0.565332  0.143587  0.090337 -0.120185  533.101514\n",
       "2     -0.563896  0.880795  0.089135 -1.208226   75.674807\n",
       "3     -0.555088  0.331017  0.077053 -0.373748  -56.326216\n",
       "4     -0.551778  0.115740  0.073315 -0.040475  -22.019596\n",
       "...         ...       ...       ...       ...         ...\n",
       "13154 -0.004212  0.003572 -0.000093 -0.000400   -0.001877\n",
       "13155 -0.004177  0.003554 -0.000097 -0.000387   -0.001901\n",
       "13156 -0.004141  0.003536 -0.000101 -0.000374   -0.001925\n",
       "13157 -0.004106  0.003518 -0.000105 -0.000361   -0.001947\n",
       "13158 -0.004071  0.003499 -0.000109 -0.000349   -0.001968\n",
       "\n",
       "[13159 rows x 5 columns]"
      ]
     },
     "execution_count": 3,
     "metadata": {},
     "output_type": "execute_result"
    }
   ],
   "source": [
    "Dados"
   ]
  },
  {
   "cell_type": "code",
   "execution_count": 4,
   "metadata": {},
   "outputs": [],
   "source": [
    "Xtrain, Xtest, Ytrain, Ytest=train_test_split(Entradas,Saidas,test_size=0.33)"
   ]
  },
  {
   "cell_type": "code",
   "execution_count": 37,
   "metadata": {},
   "outputs": [
    {
     "data": {
      "text/plain": [
       "MLPRegressor(hidden_layer_sizes=[128, 128, 256, 256, 256], max_iter=90000)"
      ]
     },
     "execution_count": 37,
     "metadata": {},
     "output_type": "execute_result"
    }
   ],
   "source": [
    "rede=MLPRegressor(hidden_layer_sizes=[128,128,256,256,256],\n",
    "                  activation='relu',\n",
    "                  max_iter=90000)\n",
    "rede.fit(Xtrain,Ytrain)"
   ]
  },
  {
   "cell_type": "code",
   "execution_count": 38,
   "metadata": {},
   "outputs": [
    {
     "name": "stdout",
     "output_type": "stream",
     "text": [
      "R2 Score do treinamento:  0.8135786528679112\n",
      "R2 Score do teste:  0.8318695171311343\n"
     ]
    }
   ],
   "source": [
    "r2train=rede.score(Xtrain, Ytrain)\n",
    "print(\"R2 Score do treinamento: \", r2train)\n",
    "r2test=rede.score(Xtest, Ytest)\n",
    "print(\"R2 Score do teste: \", r2test)"
   ]
  },
  {
   "cell_type": "code",
   "execution_count": 32,
   "metadata": {},
   "outputs": [
    {
     "data": {
      "text/plain": [
       "(4343, 4)"
      ]
     },
     "execution_count": 32,
     "metadata": {},
     "output_type": "execute_result"
    }
   ],
   "source": [
    "Xtest.shape"
   ]
  },
  {
   "cell_type": "code",
   "execution_count": 33,
   "metadata": {},
   "outputs": [
    {
     "data": {
      "image/png": "[encoded data removed]",
      "text/plain": [
       "<Figure size 432x288 with 1 Axes>"
      ]
     },
     "metadata": {
      "needs_background": "light"
     },
     "output_type": "display_data"
    }
   ],
   "source": [
    "Ypred=rede.predict(Xtest)\n",
    "plt.scatter(Ypred,Ytest)\n",
    "#plt.scatter(Xtest,Ypred)\n",
    "plt.show()"
   ]
  },
  {
   "cell_type": "code",
   "execution_count": 36,
   "metadata": {},
   "outputs": [
    {
     "data": {
      "text/plain": [
       "(4343,)"
      ]
     },
     "execution_count": 36,
     "metadata": {},
     "output_type": "execute_result"
    }
   ],
   "source": [
    "dif=Ypred-Ytest\n",
    "dif.shape"
   ]
  },
  {
   "cell_type": "code",
   "execution_count": 50,
   "metadata": {},
   "outputs": [
    {
     "data": {
      "image/png": "[encoded data removed]",
      "text/plain": [
       "<Figure size 432x288 with 1 Axes>"
      ]
     },
     "metadata": {
      "needs_background": "light"
     },
     "output_type": "display_data"
    }
   ],
   "source": [
    "plt.plot(hist.history[\"loss\"])\n",
    "plt.plot(hist.history[\"val_loss\"])\n",
    "plt.show()"
   ]
  },
  {
   "cell_type": "code",
   "execution_count": 17,
   "metadata": {},
   "outputs": [
    {
     "data": {
      "image/png": "[encoded data removed]",
      "text/plain": [
       "<Figure size 432x288 with 1 Axes>"
      ]
     },
     "metadata": {
      "needs_background": "light"
     },
     "output_type": "display_data"
    }
   ],
   "source": [
    "plt.plot(hist.history[\"loss\"])\n",
    "plt.plot(hist.history[\"val_loss\"])\n",
    "plt.show()"
   ]
  },
  {
   "cell_type": "code",
   "execution_count": 30,
   "metadata": {},
   "outputs": [],
   "source": [
    "modelo.save(r'C:\\Users\\Mateus\\Desktop\\Trabalho 3\\teste2.h5')"
   ]
  },
  {
   "cell_type": "code",
   "execution_count": 34,
   "metadata": {},
   "outputs": [
    {
     "name": "stdout",
     "output_type": "stream",
     "text": [
      "136/136 [==============================] - 0s 1ms/step\n"
     ]
    }
   ],
   "source": [
    "Ypredi=modelo.predict(Xtest)"
   ]
  },
  {
   "cell_type": "code",
   "execution_count": 37,
   "metadata": {},
   "outputs": [
    {
     "data": {
      "text/plain": [
       "array([[-0.20280299],\n",
       "       [-0.27898413],\n",
       "       [-0.25430423],\n",
       "       ...,\n",
       "       [ 4.841336  ],\n",
       "       [ 4.860082  ],\n",
       "       [ 4.7861333 ]], dtype=float32)"
      ]
     },
     "execution_count": 37,
     "metadata": {},
     "output_type": "execute_result"
    }
   ],
   "source": [
    "#Ypredi=np.round(Ypredi)\n",
    "Ypredi\n",
    "Ypredi.reshape(-1,1)"
   ]
  }
 ],
 "metadata": {
  "kernelspec": {
   "display_name": "Python 3.9.7 ('base')",
   "language": "python",
   "name": "python3"
  },
  "language_info": {
   "codemirror_mode": {
    "name": "ipython",
    "version": 3
   },
   "file_extension": ".py",
   "mimetype": "text/x-python",
   "name": "python",
   "nbconvert_exporter": "python",
   "pygments_lexer": "ipython3",
   "version": "3.9.7"
  },
  "orig_nbformat": 4,
  "vscode": {
   "interpreter": {
    "hash": "4333fd1fe43e466f515c3a6ba90777eaed51e6920feedfbbb88898e3a37377d4"
   }
  }
 },
 "nbformat": 4,
 "nbformat_minor": 2
}
